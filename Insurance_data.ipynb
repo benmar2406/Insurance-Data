{
 "cells": [
  {
   "cell_type": "code",
   "execution_count": 3,
   "id": "df4bf743",
   "metadata": {},
   "outputs": [
    {
     "name": "stdout",
     "output_type": "stream",
     "text": [
      "Preview data\n",
      "   age     sex     bmi  children smoker     region      charges\n",
      "0   19  female  27.900         0    yes  southwest  16884.92400\n",
      "1   18    male  33.770         1     no  southeast   1725.55230\n",
      "2   28    male  33.000         3     no  southeast   4449.46200\n",
      "3   33    male  22.705         0     no  northwest  21984.47061\n",
      "4   32    male  28.880         0     no  northwest   3866.85520\n",
      "====================================================================\n",
      "Data description\n",
      "               age          bmi     children       charges\n",
      "count  1338.000000  1338.000000  1338.000000   1338.000000\n",
      "mean     39.207025    30.663397     1.094918  13270.422265\n",
      "std      14.049960     6.098187     1.205493  12110.011237\n",
      "min      18.000000    15.960000     0.000000   1121.873900\n",
      "25%      27.000000    26.296250     0.000000   4740.287150\n",
      "50%      39.000000    30.400000     1.000000   9382.033000\n",
      "75%      51.000000    34.693750     2.000000  16639.912515\n",
      "max      64.000000    53.130000     5.000000  63770.428010\n",
      "====================================================================\n",
      "Data types\n",
      "age            int64\n",
      "sex         category\n",
      "bmi          float64\n",
      "children       int64\n",
      "smoker      category\n",
      "region      category\n",
      "charges      float64\n",
      "dtype: object\n"
     ]
    }
   ],
   "source": [
    "import pandas as pd\n",
    "import numpy as np\n",
    "import matplotlib.pyplot as plt \n",
    "import seaborn as sns\n",
    "from scipy.stats import pearsonr\n",
    "from scipy.stats import chi2_contingency\n",
    "\n",
    "insurance_data = pd.read_csv(\"insurance.csv\")\n",
    "\n",
    "print(\"Preview data\")\n",
    "print(insurance_data.head())\n",
    "print(\"====================================================================\")\n",
    "print(\"Data description\")\n",
    "print(insurance_data.describe())\n",
    "print(\"====================================================================\")\n",
    "insurance_data['sex'] = pd.Categorical(insurance_data['sex'], ['female', 'male'], ordered=True)\n",
    "insurance_data['smoker'] = pd.Categorical(insurance_data['smoker'], ['yes', 'no'], ordered=True)\n",
    "insurance_data['region'] = pd.Categorical(insurance_data['region'], ['southwest', 'southeast', 'northeast', 'northwest'], ordered=True)\n",
    "print(\"Data types\")\n",
    "print(insurance_data.dtypes)"
   ]
  },
  {
   "cell_type": "markdown",
   "id": "5bcb857a",
   "metadata": {},
   "source": [
    "## Questions\n",
    "1. Is one sex on average charged higher than the other?\n",
    "2. Is age correlated to charges?\n",
    "2. Is smoking a gender specific topic?\n",
    "2. Are smokers charged higher on average than non-smokers?\n",
    "5. Is region correlated to charges?\n",
    "6. Conclusion"
   ]
  },
  {
   "cell_type": "markdown",
   "id": "d9b1f9fe",
   "metadata": {},
   "source": [
    "### Charges"
   ]
  },
  {
   "cell_type": "code",
   "execution_count": 52,
   "id": "2b225c1b",
   "metadata": {},
   "outputs": [
    {
     "name": "stdout",
     "output_type": "stream",
     "text": [
      "Mean charges: 13270.42\n",
      "Median charges: 9382.03\n"
     ]
    },
    {
     "data": {
      "image/png": "[encoded data removed]",
      "text/plain": [
       "<Figure size 432x288 with 1 Axes>"
      ]
     },
     "metadata": {
      "needs_background": "light"
     },
     "output_type": "display_data"
    }
   ],
   "source": [
    "print(\"Mean charges:\", round(insurance_data.charges.mean(), 2))\n",
    "print(\"Median charges:\", round(insurance_data.charges.median(), 2))\n",
    "\n",
    "insurance_data.hist(column='charges')\n",
    "plt.show()\n",
    "plt.close()\n",
    "\n"
   ]
  },
  {
   "cell_type": "markdown",
   "id": "4ca263a8",
   "metadata": {},
   "source": [
    "The diagram is strongly left skewed. Many participants are in the low level area with their amount of charges."
   ]
  },
  {
   "cell_type": "code",
   "execution_count": 44,
   "id": "70785b9e",
   "metadata": {},
   "outputs": [
    {
     "data": {
      "image/png": "[encoded data removed]",
      "text/plain": [
       "<Figure size 432x288 with 1 Axes>"
      ]
     },
     "metadata": {
      "needs_background": "light"
     },
     "output_type": "display_data"
    },
    {
     "name": "stdout",
     "output_type": "stream",
     "text": [
      "Median charges men: 9369.62 $.\n",
      "Median charges women: 9412.96$.\n"
     ]
    }
   ],
   "source": [
    "chrgs_men = insurance_data.charges[insurance_data.sex == 'male']\n",
    "chrgs_women = insurance_data.charges[insurance_data.sex == 'female']\n",
    "\n",
    "plt.hist(chrgs_men, color=\"blue\", label=\"men\", alpha=0.5)\n",
    "plt.hist(chrgs_women, color=\"red\", label=\"women\", alpha=0.5)\n",
    "plt.legend()\n",
    "plt.show()\n",
    "plt.close()\n",
    "\n",
    "print(f\"Median charges men: {round(chrgs_men.median(), 2)} $.\")\n",
    "print(f\"Median charges women: {round(chrgs_women.median(), 2)}$.\")"
   ]
  },
  {
   "cell_type": "markdown",
   "id": "a40ab385",
   "metadata": {},
   "source": [
    "There's a deviation in the amount of charges that men and women pay, there are more men in the higher area at arounf 40k."
   ]
  },
  {
   "cell_type": "markdown",
   "id": "9fa53dbe",
   "metadata": {},
   "source": [
    "### Age and charges"
   ]
  },
  {
   "cell_type": "code",
   "execution_count": 53,
   "id": "cd797166",
   "metadata": {},
   "outputs": [
    {
     "data": {
      "image/png": "[encoded data removed]",
      "text/plain": [
       "<Figure size 432x288 with 1 Axes>"
      ]
     },
     "metadata": {
      "needs_background": "light"
     },
     "output_type": "display_data"
    },
    {
     "name": "stdout",
     "output_type": "stream",
     "text": [
      "Covariance:\n",
      "[[1.97401387e+02 5.08748023e+04]\n",
      " [5.08748023e+04 1.46652372e+08]]\n",
      "====================================================================\n",
      "Correlation:\n",
      "0.29900819333064765\n",
      "====================================================================\n",
      "Chi2: 61548.000000000015\n"
     ]
    }
   ],
   "source": [
    "plt.scatter(x =insurance_data.age, y =insurance_data.charges)\n",
    "plt.xlabel('age')\n",
    "plt.ylabel('charges')\n",
    "plt.show()\n",
    "plt.close()\n",
    "\n",
    "print('Covariance:')\n",
    "cov_age_chrgs = np.cov(insurance_data.age, insurance_data.charges)\n",
    "print(cov_age_chrgs)\n",
    "\n",
    "print(\"====================================================================\")\n",
    "\n",
    "print('Correlation:')\n",
    "corr_age_chrgs, p =pearsonr(insurance_data.age, insurance_data.charges)\n",
    "print(corr_age_chrgs)\n"
   ]
  },
  {
   "cell_type": "markdown",
   "id": "5683ec3b",
   "metadata": {},
   "source": [
    "There is a correlation between age data. But what is significant is that the majority remains in the low level areas whereas other participants to already start at high charges with young age."
   ]
  },
  {
   "cell_type": "markdown",
   "id": "4cbd3562",
   "metadata": {},
   "source": [
    "### Smokers & Gender"
   ]
  },
  {
   "cell_type": "code",
   "execution_count": 46,
   "id": "547f45e4",
   "metadata": {},
   "outputs": [
    {
     "name": "stdout",
     "output_type": "stream",
     "text": [
      "sex     female  male\n",
      "smoker              \n",
      "yes        115   159\n",
      "no         547   517\n",
      "sex       female      male\n",
      "smoker                    \n",
      "yes     0.085949  0.118834\n",
      "no      0.408819  0.386398\n"
     ]
    },
    {
     "data": {
      "image/png": "[encoded data removed]",
      "text/plain": [
       "<Figure size 432x288 with 1 Axes>"
      ]
     },
     "metadata": {
      "needs_background": "light"
     },
     "output_type": "display_data"
    },
    {
     "data": {
      "image/png": "[encoded data removed]",
      "text/plain": [
       "<Figure size 432x288 with 1 Axes>"
      ]
     },
     "metadata": {},
     "output_type": "display_data"
    },
    {
     "name": "stdout",
     "output_type": "stream",
     "text": [
      "Men smoking: 23.52%.\n",
      "Women smoking: 17.01%.\n"
     ]
    }
   ],
   "source": [
    "smoker_sex_freq = pd.crosstab(insurance_data.smoker, insurance_data.sex)\n",
    "print(smoker_sex_freq)\n",
    "\n",
    "smoker_sex_prop=smoker_sex_freq/len(insurance_data)\n",
    "print(smoker_sex_prop)\n",
    "\n",
    "smokers['sex'] = insurance_data.sex[insurance_data.smoker == 'yes']\n",
    "sns.countplot(x='sex', data=smokers)\n",
    "plt.show()\n",
    "plt.close()\n",
    "\n",
    "smokers.sex.value_counts().plot.pie()\n",
    "plt.show()\n",
    "plt.close()\n",
    "\n",
    "smokers_perc_men = insurance_data.smoker[insurance_data.sex == 'male'].value_counts() / len(insurance_data[insurance_data.sex == 'male'])\n",
    "print(f'Men smoking: {round(smokers_perc_men[1]*100, 2)}%.')\n",
    "\n",
    "smokers_perc_women = insurance_data.smoker[insurance_data.sex == 'female'].value_counts() / len(insurance_data[insurance_data.sex == 'male'])\n",
    "print(f'Women smoking: {round(smokers_perc_women[1]*100, 2)}%.')\n"
   ]
  },
  {
   "cell_type": "markdown",
   "id": "141156e7",
   "metadata": {},
   "source": [
    "In the pie chart you can see that among the smokers in the data men make up more than 50% (The sexes are equally distributed).\n",
    "\n",
    "Among all men 23.52% are smokers, compared to that only 17% of women are smokers. "
   ]
  },
  {
   "cell_type": "markdown",
   "id": "bb3f5929",
   "metadata": {},
   "source": [
    "## Charges and smokers"
   ]
  },
  {
   "cell_type": "code",
   "execution_count": 47,
   "id": "0420a86e",
   "metadata": {},
   "outputs": [
    {
     "name": "stdout",
     "output_type": "stream",
     "text": [
      "Mean charges smokers/non-smokers\n",
      "smokers: 32050.23\n",
      "non-smokers: 8434.27\n",
      "======================================================\n",
      "Standard deviation\n",
      "smokers: 11541.547175589121\n",
      "non-smokers: 5993.781819194933\n",
      "======================================================\n",
      "Median charges smokers/non-smokers\n",
      "smokers: 34456.348450000005\n",
      "non-smokers: 7345.4053\n",
      "======================================================\n",
      "Difference between average charges of smokers and non smokers: 73.68%.\n",
      "======================================================\n"
     ]
    },
    {
     "data": {
      "image/png": "[encoded data removed]",
      "text/plain": [
       "<Figure size 432x288 with 1 Axes>"
      ]
     },
     "metadata": {
      "needs_background": "light"
     },
     "output_type": "display_data"
    }
   ],
   "source": [
    "chrgs_smokers = insurance_data.charges[insurance_data.smoker == 'yes']\n",
    "chrgs_non_smokers = insurance_data.charges[insurance_data.smoker == 'no']\n",
    "\n",
    "print('Mean charges smokers/non-smokers')\n",
    "print('smokers:', round(chrgs_smokers.mean(), 2))\n",
    "print('non-smokers:', round(chrgs_non_smokers.mean(), 2))\n",
    "\n",
    "print(\"======================================================\")\n",
    "\n",
    "print(\"Standard deviation\")\n",
    "print(\"smokers:\", chrgs_smokers.std())\n",
    "print(\"non-smokers:\", chrgs_non_smokers.std())\n",
    "\n",
    "print(\"======================================================\")\n",
    "\n",
    "\n",
    "print('Median charges smokers/non-smokers')\n",
    "print('smokers:', chrgs_smokers.median())\n",
    "print('non-smokers:', chrgs_non_smokers.median())\n",
    "\n",
    "print(\"======================================================\")\n",
    "\n",
    "print(f'Difference between average charges of smokers and non smokers: \\\n",
    "{round((chrgs_smokers.mean() - chrgs_non_smokers.mean()) / chrgs_smokers.mean() * 100,2)}%.')\n",
    "\n",
    "print(\"======================================================\")\n",
    "\n",
    "plt.hist(chrgs_non_smokers, color=\"blue\", label=\"non-smokers\", alpha=0.5)\n",
    "plt.hist(chrgs_smokers, color=\"red\", label=\"smokers\", alpha=0.5)\n",
    "plt.legend()\n",
    "plt.show()\n",
    "plt.close()"
   ]
  },
  {
   "cell_type": "markdown",
   "id": "a9b070f3",
   "metadata": {},
   "source": [
    "Here we can see that being a smoker or non-smoker does have a big impact on the average charges being faced. The difference between avergage charges of smokers and non smokers is 74,68%. \n",
    "All participants in the high paying area at around 40k and above are caused by smokers. There no smoking members in the group whose charges are in the area at 10k and below where the majority of non smokers is settled."
   ]
  },
  {
   "cell_type": "markdown",
   "id": "33f91088",
   "metadata": {},
   "source": [
    "## Charges and regions"
   ]
  },
  {
   "cell_type": "code",
   "execution_count": 57,
   "id": "1f5e78af",
   "metadata": {},
   "outputs": [
    {
     "data": {
      "image/png": "[encoded data removed]",
      "text/plain": [
       "<Figure size 432x288 with 1 Axes>"
      ]
     },
     "metadata": {
      "needs_background": "light"
     },
     "output_type": "display_data"
    },
    {
     "name": "stdout",
     "output_type": "stream",
     "text": [
      "Sums charges per region\n",
      "southwest: 4012754.65\n",
      "southeast: 5363689.76\n",
      "northwest: 4035712.0\n",
      "northeast: 4343668.58\n"
     ]
    },
    {
     "data": {
      "image/png": "[encoded data removed]",
      "text/plain": [
       "<Figure size 432x288 with 1 Axes>"
      ]
     },
     "metadata": {
      "needs_background": "light"
     },
     "output_type": "display_data"
    },
    {
     "name": "stdout",
     "output_type": "stream",
     "text": [
      "Mean charges per region\n",
      "southwest: 12346.94\n",
      "southeast: 14735.41\n",
      "northwest: 12417.58\n",
      "northeast: 13406.38\n"
     ]
    }
   ],
   "source": [
    "chrgs_sw = insurance_data.charges[insurance_data.region == 'southwest']\n",
    "chrgs_se = insurance_data.charges[insurance_data.region == 'southeast']\n",
    "chrgs_nw = insurance_data.charges[insurance_data.region == 'northwest']\n",
    "chrgs_ne = insurance_data.charges[insurance_data.region == 'northeast']\n",
    "\n",
    "plt.hist(chrgs_sw, label=\"southwest\", alpha=0.5)\n",
    "plt.hist(chrgs_se, label=\"southeast\", alpha=0.5)\n",
    "plt.hist(chrgs_nw, label=\"nothhwest\", alpha=0.5)\n",
    "plt.hist(chrgs_ne, label=\"northeast\", alpha=0.5)\n",
    "plt.legend()\n",
    "plt.show()\n",
    "plt.close()\n",
    "\n",
    "\n",
    "print('Sums charges per region')\n",
    "print('southwest:', round(sum(chrgs_sw),2))\n",
    "print('southeast:', round(sum(chrgs_se),2))\n",
    "print('northwest:', round(sum(chrgs_nw),2))\n",
    "print('northeast:', round(sum(chrgs_ne),2))\n",
    "sns.countplot(x='region', data=insurance_data)\n",
    "plt.show()\n",
    "plt.close()\n",
    "print('Mean charges per region')\n",
    "print('southwest:', round(chrgs_sw.mean(),2))\n",
    "print('southeast:', round(chrgs_se.mean(),2))\n",
    "print('northwest:', round(chrgs_nw.mean(),2))\n",
    "print('northeast:', round(chrgs_ne.mean(),2))"
   ]
  },
  {
   "cell_type": "markdown",
   "id": "2bb45e49",
   "metadata": {},
   "source": [
    "In southeast region the total sum of charges is higher but there are also more participants from that region than from the others. Still average charges are there the highest as well. \n",
    "\n",
    "Maybe there is a correlation between smokers and charges in the region."
   ]
  },
  {
   "cell_type": "markdown",
   "id": "6187f549",
   "metadata": {},
   "source": [
    "## Regions and smokers\n"
   ]
  },
  {
   "cell_type": "code",
   "execution_count": 58,
   "id": "d8fd6e9c",
   "metadata": {},
   "outputs": [
    {
     "name": "stdout",
     "output_type": "stream",
     "text": [
      "Percentage of smokers per region:\n",
      "southwest: 24.29%\n",
      "southeast: 27.2%\n",
      "northwest: 24.29%\n",
      "northeast: 24.22%\n"
     ]
    },
    {
     "data": {
      "image/png": "[encoded data removed]",
      "text/plain": [
       "<Figure size 432x288 with 1 Axes>"
      ]
     },
     "metadata": {
      "needs_background": "light"
     },
     "output_type": "display_data"
    }
   ],
   "source": [
    "smokers_sw = len(insurance_data.smoker[insurance_data.region == 'southwest']) * 100 / len(insurance_data)  \n",
    "smokers_se = len(insurance_data.smoker[insurance_data.region == 'southeast']) * 100 / len(insurance_data)\n",
    "smokers_nw = len(insurance_data.smoker[insurance_data.region == 'northwest']) * 100 / len(insurance_data) \n",
    "smokers_ne = len(insurance_data.smoker[insurance_data.region == 'northeast']) * 100 / len(insurance_data)  \n",
    "\n",
    "print(\"Percentage of smokers per region:\")\n",
    "print(f\"southwest: {round(smokers_sw, 2)}%\")\n",
    "print(f\"southeast: {round(smokers_se, 2)}%\")\n",
    "print(f\"northwest: {round(smokers_nw, 2)}%\")\n",
    "print(f\"northeast: {round(smokers_ne, 2)}%\")\n",
    "\n",
    "\n",
    "smokers['region'] = insurance_data.region[insurance_data.smoker == 'yes']\n",
    "sns.countplot(x='region', data=smokers)\n",
    "plt.show()\n",
    "plt.close()\n"
   ]
  },
  {
   "cell_type": "markdown",
   "id": "e0015695",
   "metadata": {},
   "source": [
    "In southeast region there are relatively the most smokers. Since we saw that smoking affects the charges heavily this could contribute to the fact, that the average charges are also the highest in this region."
   ]
  },
  {
   "cell_type": "markdown",
   "id": "2c24ef89",
   "metadata": {},
   "source": [
    "## BMI and charges"
   ]
  },
  {
   "cell_type": "code",
   "execution_count": 4,
   "id": "616d32eb",
   "metadata": {},
   "outputs": [
    {
     "data": {
      "image/png": "[encoded data removed]",
      "text/plain": [
       "<Figure size 432x288 with 1 Axes>"
      ]
     },
     "metadata": {
      "needs_background": "light"
     },
     "output_type": "display_data"
    },
    {
     "name": "stdout",
     "output_type": "stream",
     "text": [
      "Covariance:\n",
      "[[3.71878836e+01 1.46473044e+04]\n",
      " [1.46473044e+04 1.46652372e+08]]\n",
      "====================================================================\n",
      "Correlation:\n",
      "0.19834096883362887\n",
      "====================================================================\n",
      "Chi2: 731886.0000000001\n"
     ]
    }
   ],
   "source": [
    "plt.scatter(x =insurance_data.bmi, y =insurance_data.charges)\n",
    "plt.xlabel('bmi')\n",
    "plt.ylabel('charges')\n",
    "plt.show()\n",
    "plt.close()\n",
    "\n",
    "print('Covariance:')\n",
    "cov_bmi_chrgs = np.cov(insurance_data.bmi, insurance_data.charges)\n",
    "print(cov_bmi_chrgs)\n",
    "\n",
    "print(\"====================================================================\")\n",
    "\n",
    "print('Correlation:')\n",
    "corr_bmi_chrgs, p =pearsonr(insurance_data.bmi, insurance_data.charges)\n",
    "print(corr_bmi_chrgs)\n",
    "\n",
    "print(\"====================================================================\")"
   ]
  },
  {
   "cell_type": "markdown",
   "id": "caaa2241",
   "metadata": {},
   "source": [
    "## Conclusion\n",
    "\n",
    "After checking several potential influencers on the insurance charges it got obvious that being a smoker or not has the highest impact on your charges. Growing age also increases the amount of charges but in a slow and steady way - age is not the relevant factor for the group of participants at the area of 40k for charges. When splitting up smokers and non smokers it becomes visible that smokers alone are responsible for the charges in the higher areas at 40k and not a single smoker of the group is settled in the area at 10k where the rest of the non smoking majority lays.\n",
    "\n",
    "More men than women are included in this high paying group. But also, more men in the group are smoking than women, so probably it is more a question of smoking or not than a question of gender. \n",
    "\n",
    "Checking on the regions: In southeast region there are relatively the most smokers. Since we saw that smoking affects the charges heavily this could contribute to the fact, that the average charges are also the highest in this region.\n",
    "\n",
    "Smoking is the main factor for driving up charges."
   ]
  }
 ],
 "metadata": {
  "kernelspec": {
   "display_name": "Python 3 (ipykernel)",
   "language": "python",
   "name": "python3"
  },
  "language_info": {
   "codemirror_mode": {
    "name": "ipython",
    "version": 3
   },
   "file_extension": ".py",
   "mimetype": "text/x-python",
   "name": "python",
   "nbconvert_exporter": "python",
   "pygments_lexer": "ipython3",
   "version": "3.9.12"
  }
 },
 "nbformat": 4,
 "nbformat_minor": 5
}
